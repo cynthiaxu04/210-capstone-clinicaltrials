{
 "cells": [
  {
   "cell_type": "code",
   "execution_count": null,
   "metadata": {},
   "outputs": [],
   "source": [
    "import pandas as pd\n",
    "import numpy as np"
   ]
  },
  {
   "cell_type": "code",
   "execution_count": null,
   "metadata": {},
   "outputs": [],
   "source": [
    "# import data\n",
    "df = pd.read_csv('/Users/adelinechin/210/cleaned_data_train.csv') # replace path\n",
    "\n",
    "# drop unncessary columns\n",
    "df = df.drop(columns=['primary_study_duration_days', 'study_duration_days', 'phase_PHASE2_ PHASE3', 'phase_PHASE3'])"
   ]
  },
  {
   "cell_type": "code",
   "execution_count": null,
   "metadata": {},
   "outputs": [],
   "source": [
    "# one-hot encode nominal features (age_group, location, resp_party, intervention_model, masking)\n",
    "df['youth'] = df['age_group'].apply(lambda x: 1 if x == 0 or x == 2 else 0)\n",
    "df['adult'] = df['age_group'].apply(lambda x: 1 if x == 1 or x == 2 else 0)\n",
    "\n",
    "df['us_loc'] = df['location'].apply(lambda x: 1 if x==0 or x==2 else 0)\n",
    "df['non_us_loc'] = df['location'].apply(lambda x: 1 if x==1 or x==1 else 0)\n",
    "\n",
    "df['pi_resp'] = df['resp_party'].apply(lambda x: 1 if x==0 or x==2 else 0)\n",
    "df['sponsor_resp'] = df['resp_party'].apply(lambda x: 1 if x==1 or x==2 else 0)\n",
    "\n",
    "df['single_intervention'] = df['intervention_model'].apply(lambda x: 1 if x==0 else 0)\n",
    "df['parallel_intervention'] = df['intervention_model'].apply(lambda x: 1 if x==1 else 0)\n",
    "df['other_intervention'] = df['intervention_model'].apply(lambda x: 1 if x==2 else 0)\n",
    "\n",
    "df['no_mask'] = df['masking'].apply(lambda x: 1 if x==0 else 0)\n",
    "df['single_mask'] = df['masking'].apply(lambda x: 1 if x==1 else 0)\n",
    "df['double_mask'] = df['masking'].apply(lambda x: 1 if x==2 else 0)\n",
    "df['triple_mask'] = df['masking'].apply(lambda x: 1 if x==3 else 0)\n",
    "df['quadruple_mask'] = df['masking'].apply(lambda x: 1 if x==4 else 0)"
   ]
  },
  {
   "cell_type": "code",
   "execution_count": null,
   "metadata": {},
   "outputs": [],
   "source": [
    "# drop original columns\n",
    "df = df.drop(columns=['age_group', 'location', 'resp_party', 'intervention_model', 'masking', 'protocolSection_identificationModule_nctId'])"
   ]
  },
  {
   "cell_type": "code",
   "execution_count": null,
   "metadata": {},
   "outputs": [],
   "source": [
    "# replace NAs with 0\n",
    "df['num_inclusion'] = df['num_inclusion'].apply(lambda x: 0 if x is None else x)\n",
    "df['num_exclusion'] = df['num_exclusion'].apply(lambda x: 0 if x is None else x)\n",
    "\n",
    "df['primary_max_days'] = df['primary_max_days'].apply(lambda x: 0 if x is None else x)\n",
    "df['secondary_max_days'] = df['secondary_max_days'].apply(lambda x: 0 if x is None else x)"
   ]
  },
  {
   "cell_type": "code",
   "execution_count": null,
   "metadata": {},
   "outputs": [],
   "source": []
  }
 ],
 "metadata": {
  "language_info": {
   "name": "python"
  }
 },
 "nbformat": 4,
 "nbformat_minor": 2
}
