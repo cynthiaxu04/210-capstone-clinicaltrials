{
 "cells": [
  {
   "cell_type": "code",
   "execution_count": 1,
   "metadata": {},
   "outputs": [],
   "source": [
    "import os\n",
    "import json"
   ]
  },
  {
   "cell_type": "code",
   "execution_count": 2,
   "metadata": {},
   "outputs": [
    {
     "name": "stdout",
     "output_type": "stream",
     "text": [
      "/Users/cynthiaxu/Documents/MIDS/05_2024 Summer/210 Capstone/210-capstone-clinicaltrials/trial_app/backend/metadata.json\n"
     ]
    }
   ],
   "source": [
    "current = os.getcwd()\n",
    "root = os.path.dirname(current)\n",
    "meta_file = 'metadata.json'\n",
    "meta_path = os.path.join(root,meta_file)\n",
    "print(meta_path)"
   ]
  },
  {
   "cell_type": "code",
   "execution_count": 3,
   "metadata": {},
   "outputs": [],
   "source": [
    "if os.path.isfile(meta_path):\n",
    "    with open(meta_path, 'r') as file:\n",
    "        meta_data = json.load(file)"
   ]
  },
  {
   "cell_type": "code",
   "execution_count": 4,
   "metadata": {},
   "outputs": [
    {
     "data": {
      "text/plain": [
       "{'data_file': 'phase3_oncology_2011_api.csv',\n",
       " 'num_bins': 3,\n",
       " 'bins': {'0': '(90.999, 1004.0]',\n",
       "  '1': '(1004.0, 1783.0]',\n",
       "  '2': '(1783.0, 4722.0]'}}"
      ]
     },
     "execution_count": 4,
     "metadata": {},
     "output_type": "execute_result"
    }
   ],
   "source": [
    "meta_data"
   ]
  },
  {
   "cell_type": "code",
   "execution_count": 5,
   "metadata": {},
   "outputs": [],
   "source": [
    "def convert_interval_to_years(interval: str) -> str:\n",
    "    # print(f\"here is the interval being operated on: {interval}\")\n",
    "    start, end = interval.strip('(').strip(']').split(',')\n",
    "    start_days = float(start)\n",
    "    end_days = float(end)\n",
    "    start_years = start_days / 365\n",
    "    end_years = end_days / 365\n",
    "    return f\"({start_years:.2f}, {end_years:.2f}]\""
   ]
  },
  {
   "cell_type": "code",
   "execution_count": 6,
   "metadata": {},
   "outputs": [],
   "source": [
    "bins = meta_data\n",
    "bin_label = 1"
   ]
  },
  {
   "cell_type": "code",
   "execution_count": 7,
   "metadata": {},
   "outputs": [
    {
     "data": {
      "text/plain": [
       "'(1004.0, 1783.0]'"
      ]
     },
     "execution_count": 7,
     "metadata": {},
     "output_type": "execute_result"
    }
   ],
   "source": [
    "bin_interval_days = bins['bins'][str(bin_label)]\n",
    "bin_interval_days"
   ]
  },
  {
   "cell_type": "code",
   "execution_count": 8,
   "metadata": {},
   "outputs": [
    {
     "data": {
      "text/plain": [
       "'(2.75, 4.88]'"
      ]
     },
     "execution_count": 8,
     "metadata": {},
     "output_type": "execute_result"
    }
   ],
   "source": [
    "bin_interval_years = convert_interval_to_years(bin_interval_days)\n",
    "bin_interval_years"
   ]
  },
  {
   "cell_type": "code",
   "execution_count": null,
   "metadata": {},
   "outputs": [],
   "source": []
  }
 ],
 "metadata": {
  "kernelspec": {
   "display_name": ".venv",
   "language": "python",
   "name": "python3"
  },
  "language_info": {
   "codemirror_mode": {
    "name": "ipython",
    "version": 3
   },
   "file_extension": ".py",
   "mimetype": "text/x-python",
   "name": "python",
   "nbconvert_exporter": "python",
   "pygments_lexer": "ipython3",
   "version": "3.12.4"
  }
 },
 "nbformat": 4,
 "nbformat_minor": 2
}
