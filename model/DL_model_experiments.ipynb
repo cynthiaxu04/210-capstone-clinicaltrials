{
 "cells": [
  {
   "cell_type": "code",
   "execution_count": 1,
   "metadata": {},
   "outputs": [],
   "source": [
    "import os\n",
    "import pandas as pd\n",
    "import numpy as np\n",
    "\n",
    "import tensorflow as tf\n",
    "from tensorflow.keras.models import Sequential\n",
    "from tensorflow.keras.layers import Dense\n",
    "from sklearn.model_selection import train_test_split\n",
    "from sklearn.preprocessing import StandardScaler\n",
    "from sklearn.metrics import mean_absolute_error, mean_squared_error, r2_score"
   ]
  },
  {
   "cell_type": "code",
   "execution_count": 2,
   "metadata": {},
   "outputs": [],
   "source": [
    "def mape_score(y_true, y_pred):\n",
    "    y_true, y_pred = np.array(y_true), np.array(y_pred)\n",
    "    return np.mean(np.abs((y_true - y_pred) / y_true)) * 100"
   ]
  },
  {
   "cell_type": "code",
   "execution_count": 3,
   "metadata": {},
   "outputs": [],
   "source": [
    "root = os.path.dirname(os.getcwd())\n",
    "path = os.path.join(root, \"data\")\n",
    "#this will be an argparse, must be csv\n",
    "filename = 'cleaned_data_train.csv'\n",
    "df = pd.read_csv(os.path.join(path, filename))"
   ]
  },
  {
   "cell_type": "code",
   "execution_count": 6,
   "metadata": {},
   "outputs": [],
   "source": [
    "# define X and y aka what features to use\n",
    "x_cols = [\n",
    "       'number_of_conditions', 'number_of_groups', 'age_group',\n",
    "       'num_locations', 'number_of_intervention_types', 'sponsor_type',\n",
    "       'intervention_model', 'resp_party', 'has_dmc', 'allocation', 'masking',\n",
    "       'enroll_count', 'healthy_vol', 'treatment_purpose',\n",
    "       'diagnostic_purpose', 'prevention_purpose', 'supportive_purpose',\n",
    "       'procedure_intervention', 'device_intervention',\n",
    "       'behavioral_intervention', 'drug_intervention',\n",
    "       'radiation_intervention', 'biological_intervention',\n",
    "       'os_outcome_measure', 'dor_outcome_measure', 'ae_outcome_measure',\n",
    "       'primary_max_days', 'secondary_max_days', 'phase_PHASE2_ PHASE3',\n",
    "       'phase_PHASE3']\n",
    "\n",
    "y_cols = ['study_duration_days']\n",
    "\n",
    "X = df[x_cols]\n",
    "y = df[y_cols]\n",
    "\n",
    "X_train, X_test, y_train, y_test = train_test_split(X, y, test_size=0.2, random_state=42)"
   ]
  }
 ],
 "metadata": {
  "kernelspec": {
   "display_name": ".venv",
   "language": "python",
   "name": "python3"
  },
  "language_info": {
   "codemirror_mode": {
    "name": "ipython",
    "version": 3
   },
   "file_extension": ".py",
   "mimetype": "text/x-python",
   "name": "python",
   "nbconvert_exporter": "python",
   "pygments_lexer": "ipython3",
   "version": "3.12.4"
  }
 },
 "nbformat": 4,
 "nbformat_minor": 2
}
