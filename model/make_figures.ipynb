{
 "cells": [
  {
   "cell_type": "code",
   "execution_count": 1,
   "metadata": {},
   "outputs": [],
   "source": [
    "import pandas as pd\n",
    "import dataframe_image as dfi\n",
    "import os\n",
    "# import matplotlib.pyplot as plt\n",
    "# from pandas.plotting import table\n",
    "# from tabulate import tabulate"
   ]
  },
  {
   "cell_type": "code",
   "execution_count": 2,
   "metadata": {},
   "outputs": [
    {
     "data": {
      "text/html": [
       "<div>\n",
       "<style scoped>\n",
       "    .dataframe tbody tr th:only-of-type {\n",
       "        vertical-align: middle;\n",
       "    }\n",
       "\n",
       "    .dataframe tbody tr th {\n",
       "        vertical-align: top;\n",
       "    }\n",
       "\n",
       "    .dataframe thead th {\n",
       "        text-align: right;\n",
       "    }\n",
       "</style>\n",
       "<table border=\"1\" class=\"dataframe\">\n",
       "  <thead>\n",
       "    <tr style=\"text-align: right;\">\n",
       "      <th></th>\n",
       "      <th>model</th>\n",
       "      <th>accuracy</th>\n",
       "      <th>mean_accuracy_kfold</th>\n",
       "      <th>precision</th>\n",
       "      <th>r_squared</th>\n",
       "      <th>mean_squared_error</th>\n",
       "      <th>mean_absolute_error</th>\n",
       "    </tr>\n",
       "  </thead>\n",
       "  <tbody>\n",
       "    <tr>\n",
       "      <th>0</th>\n",
       "      <td>rf</td>\n",
       "      <td>0.184211</td>\n",
       "      <td>0.365254</td>\n",
       "      <td>0.180042</td>\n",
       "      <td>-0.135198</td>\n",
       "      <td>2.421053</td>\n",
       "      <td>1.263158</td>\n",
       "    </tr>\n",
       "    <tr>\n",
       "      <th>1</th>\n",
       "      <td>xgb</td>\n",
       "      <td>0.184211</td>\n",
       "      <td>0.366347</td>\n",
       "      <td>0.187569</td>\n",
       "      <td>-0.110520</td>\n",
       "      <td>2.368421</td>\n",
       "      <td>1.245614</td>\n",
       "    </tr>\n",
       "    <tr>\n",
       "      <th>2</th>\n",
       "      <td>lgb</td>\n",
       "      <td>0.157895</td>\n",
       "      <td>0.355328</td>\n",
       "      <td>0.161847</td>\n",
       "      <td>-0.347019</td>\n",
       "      <td>2.872807</td>\n",
       "      <td>1.381579</td>\n",
       "    </tr>\n",
       "    <tr>\n",
       "      <th>3</th>\n",
       "      <td>lgb</td>\n",
       "      <td>0.157895</td>\n",
       "      <td>0.355328</td>\n",
       "      <td>0.161847</td>\n",
       "      <td>-0.347019</td>\n",
       "      <td>2.872807</td>\n",
       "      <td>1.381579</td>\n",
       "    </tr>\n",
       "    <tr>\n",
       "      <th>4</th>\n",
       "      <td>xgb</td>\n",
       "      <td>0.184211</td>\n",
       "      <td>0.366347</td>\n",
       "      <td>0.187569</td>\n",
       "      <td>-0.110520</td>\n",
       "      <td>2.368421</td>\n",
       "      <td>1.245614</td>\n",
       "    </tr>\n",
       "    <tr>\n",
       "      <th>5</th>\n",
       "      <td>rf</td>\n",
       "      <td>0.179825</td>\n",
       "      <td>0.370736</td>\n",
       "      <td>0.179500</td>\n",
       "      <td>-0.190724</td>\n",
       "      <td>2.539474</td>\n",
       "      <td>1.293860</td>\n",
       "    </tr>\n",
       "  </tbody>\n",
       "</table>\n",
       "</div>"
      ],
      "text/plain": [
       "  model  accuracy  mean_accuracy_kfold  precision  r_squared  \\\n",
       "0    rf  0.184211             0.365254   0.180042  -0.135198   \n",
       "1   xgb  0.184211             0.366347   0.187569  -0.110520   \n",
       "2   lgb  0.157895             0.355328   0.161847  -0.347019   \n",
       "3   lgb  0.157895             0.355328   0.161847  -0.347019   \n",
       "4   xgb  0.184211             0.366347   0.187569  -0.110520   \n",
       "5    rf  0.179825             0.370736   0.179500  -0.190724   \n",
       "\n",
       "   mean_squared_error  mean_absolute_error  \n",
       "0            2.421053             1.263158  \n",
       "1            2.368421             1.245614  \n",
       "2            2.872807             1.381579  \n",
       "3            2.872807             1.381579  \n",
       "4            2.368421             1.245614  \n",
       "5            2.539474             1.293860  "
      ]
     },
     "execution_count": 2,
     "metadata": {},
     "output_type": "execute_result"
    }
   ],
   "source": [
    "df = pd.read_json('modeling_results.json')\n",
    "df"
   ]
  },
  {
   "cell_type": "code",
   "execution_count": 3,
   "metadata": {},
   "outputs": [],
   "source": [
    "df.drop_duplicates(subset='model', keep='last', inplace=True)"
   ]
  },
  {
   "cell_type": "code",
   "execution_count": 4,
   "metadata": {},
   "outputs": [
    {
     "data": {
      "text/html": [
       "<div>\n",
       "<style scoped>\n",
       "    .dataframe tbody tr th:only-of-type {\n",
       "        vertical-align: middle;\n",
       "    }\n",
       "\n",
       "    .dataframe tbody tr th {\n",
       "        vertical-align: top;\n",
       "    }\n",
       "\n",
       "    .dataframe thead th {\n",
       "        text-align: right;\n",
       "    }\n",
       "</style>\n",
       "<table border=\"1\" class=\"dataframe\">\n",
       "  <thead>\n",
       "    <tr style=\"text-align: right;\">\n",
       "      <th></th>\n",
       "      <th>model</th>\n",
       "      <th>accuracy</th>\n",
       "      <th>mean_accuracy_kfold</th>\n",
       "      <th>precision</th>\n",
       "      <th>r_squared</th>\n",
       "      <th>mean_squared_error</th>\n",
       "      <th>mean_absolute_error</th>\n",
       "    </tr>\n",
       "  </thead>\n",
       "  <tbody>\n",
       "    <tr>\n",
       "      <th>3</th>\n",
       "      <td>lgb</td>\n",
       "      <td>0.157895</td>\n",
       "      <td>0.355328</td>\n",
       "      <td>0.161847</td>\n",
       "      <td>-0.347019</td>\n",
       "      <td>2.872807</td>\n",
       "      <td>1.381579</td>\n",
       "    </tr>\n",
       "    <tr>\n",
       "      <th>4</th>\n",
       "      <td>xgb</td>\n",
       "      <td>0.184211</td>\n",
       "      <td>0.366347</td>\n",
       "      <td>0.187569</td>\n",
       "      <td>-0.110520</td>\n",
       "      <td>2.368421</td>\n",
       "      <td>1.245614</td>\n",
       "    </tr>\n",
       "    <tr>\n",
       "      <th>5</th>\n",
       "      <td>rf</td>\n",
       "      <td>0.179825</td>\n",
       "      <td>0.370736</td>\n",
       "      <td>0.179500</td>\n",
       "      <td>-0.190724</td>\n",
       "      <td>2.539474</td>\n",
       "      <td>1.293860</td>\n",
       "    </tr>\n",
       "  </tbody>\n",
       "</table>\n",
       "</div>"
      ],
      "text/plain": [
       "  model  accuracy  mean_accuracy_kfold  precision  r_squared  \\\n",
       "3   lgb  0.157895             0.355328   0.161847  -0.347019   \n",
       "4   xgb  0.184211             0.366347   0.187569  -0.110520   \n",
       "5    rf  0.179825             0.370736   0.179500  -0.190724   \n",
       "\n",
       "   mean_squared_error  mean_absolute_error  \n",
       "3            2.872807             1.381579  \n",
       "4            2.368421             1.245614  \n",
       "5            2.539474             1.293860  "
      ]
     },
     "execution_count": 4,
     "metadata": {},
     "output_type": "execute_result"
    }
   ],
   "source": [
    "df"
   ]
  },
  {
   "cell_type": "code",
   "execution_count": 5,
   "metadata": {},
   "outputs": [],
   "source": [
    "# Style the DataFrame\n",
    "styled_df = df.style.background_gradient(cmap='Blues', subset=['accuracy', 'precision', 'mean_accuracy_kfold']) \\\n",
    "                 .format({'accuracy': '{:.3f}', 'mean_accuracy_kfold': '{:.3f}', 'precision': '{:.3f}',\n",
    "                          'r_squared': '{:.3f}', 'mean_squared_error': '{:.3f}', 'mean_absolute_error': '{:.3f}'}) \\\n",
    "                 .set_caption('Modeling Results')\n"
   ]
  },
  {
   "cell_type": "code",
   "execution_count": 6,
   "metadata": {},
   "outputs": [
    {
     "data": {
      "text/html": [
       "<style type=\"text/css\">\n",
       "#T_7d6f9_row0_col1, #T_7d6f9_row0_col2, #T_7d6f9_row0_col3 {\n",
       "  background-color: #f7fbff;\n",
       "  color: #000000;\n",
       "}\n",
       "#T_7d6f9_row1_col1, #T_7d6f9_row1_col3, #T_7d6f9_row2_col2 {\n",
       "  background-color: #08306b;\n",
       "  color: #f1f1f1;\n",
       "}\n",
       "#T_7d6f9_row1_col2 {\n",
       "  background-color: #2a7ab9;\n",
       "  color: #f1f1f1;\n",
       "}\n",
       "#T_7d6f9_row2_col1 {\n",
       "  background-color: #105ba4;\n",
       "  color: #f1f1f1;\n",
       "}\n",
       "#T_7d6f9_row2_col3 {\n",
       "  background-color: #3282be;\n",
       "  color: #f1f1f1;\n",
       "}\n",
       "</style>\n",
       "<table id=\"T_7d6f9\">\n",
       "  <caption>Modeling Results</caption>\n",
       "  <thead>\n",
       "    <tr>\n",
       "      <th class=\"blank level0\" >&nbsp;</th>\n",
       "      <th id=\"T_7d6f9_level0_col0\" class=\"col_heading level0 col0\" >model</th>\n",
       "      <th id=\"T_7d6f9_level0_col1\" class=\"col_heading level0 col1\" >accuracy</th>\n",
       "      <th id=\"T_7d6f9_level0_col2\" class=\"col_heading level0 col2\" >mean_accuracy_kfold</th>\n",
       "      <th id=\"T_7d6f9_level0_col3\" class=\"col_heading level0 col3\" >precision</th>\n",
       "      <th id=\"T_7d6f9_level0_col4\" class=\"col_heading level0 col4\" >r_squared</th>\n",
       "      <th id=\"T_7d6f9_level0_col5\" class=\"col_heading level0 col5\" >mean_squared_error</th>\n",
       "      <th id=\"T_7d6f9_level0_col6\" class=\"col_heading level0 col6\" >mean_absolute_error</th>\n",
       "    </tr>\n",
       "  </thead>\n",
       "  <tbody>\n",
       "    <tr>\n",
       "      <th id=\"T_7d6f9_level0_row0\" class=\"row_heading level0 row0\" >3</th>\n",
       "      <td id=\"T_7d6f9_row0_col0\" class=\"data row0 col0\" >lgb</td>\n",
       "      <td id=\"T_7d6f9_row0_col1\" class=\"data row0 col1\" >0.158</td>\n",
       "      <td id=\"T_7d6f9_row0_col2\" class=\"data row0 col2\" >0.355</td>\n",
       "      <td id=\"T_7d6f9_row0_col3\" class=\"data row0 col3\" >0.162</td>\n",
       "      <td id=\"T_7d6f9_row0_col4\" class=\"data row0 col4\" >-0.347</td>\n",
       "      <td id=\"T_7d6f9_row0_col5\" class=\"data row0 col5\" >2.873</td>\n",
       "      <td id=\"T_7d6f9_row0_col6\" class=\"data row0 col6\" >1.382</td>\n",
       "    </tr>\n",
       "    <tr>\n",
       "      <th id=\"T_7d6f9_level0_row1\" class=\"row_heading level0 row1\" >4</th>\n",
       "      <td id=\"T_7d6f9_row1_col0\" class=\"data row1 col0\" >xgb</td>\n",
       "      <td id=\"T_7d6f9_row1_col1\" class=\"data row1 col1\" >0.184</td>\n",
       "      <td id=\"T_7d6f9_row1_col2\" class=\"data row1 col2\" >0.366</td>\n",
       "      <td id=\"T_7d6f9_row1_col3\" class=\"data row1 col3\" >0.188</td>\n",
       "      <td id=\"T_7d6f9_row1_col4\" class=\"data row1 col4\" >-0.111</td>\n",
       "      <td id=\"T_7d6f9_row1_col5\" class=\"data row1 col5\" >2.368</td>\n",
       "      <td id=\"T_7d6f9_row1_col6\" class=\"data row1 col6\" >1.246</td>\n",
       "    </tr>\n",
       "    <tr>\n",
       "      <th id=\"T_7d6f9_level0_row2\" class=\"row_heading level0 row2\" >5</th>\n",
       "      <td id=\"T_7d6f9_row2_col0\" class=\"data row2 col0\" >rf</td>\n",
       "      <td id=\"T_7d6f9_row2_col1\" class=\"data row2 col1\" >0.180</td>\n",
       "      <td id=\"T_7d6f9_row2_col2\" class=\"data row2 col2\" >0.371</td>\n",
       "      <td id=\"T_7d6f9_row2_col3\" class=\"data row2 col3\" >0.179</td>\n",
       "      <td id=\"T_7d6f9_row2_col4\" class=\"data row2 col4\" >-0.191</td>\n",
       "      <td id=\"T_7d6f9_row2_col5\" class=\"data row2 col5\" >2.539</td>\n",
       "      <td id=\"T_7d6f9_row2_col6\" class=\"data row2 col6\" >1.294</td>\n",
       "    </tr>\n",
       "  </tbody>\n",
       "</table>\n"
      ],
      "text/plain": [
       "<pandas.io.formats.style.Styler at 0x12fac08f0>"
      ]
     },
     "execution_count": 6,
     "metadata": {},
     "output_type": "execute_result"
    }
   ],
   "source": [
    "styled_df"
   ]
  },
  {
   "cell_type": "code",
   "execution_count": 7,
   "metadata": {},
   "outputs": [
    {
     "data": {
      "text/plain": [
       "'/Users/cynthiaxu/Documents/MIDS/05_2024 Summer/210 Capstone/210-capstone-clinicaltrials/figures/modeling_results.png'"
      ]
     },
     "execution_count": 7,
     "metadata": {},
     "output_type": "execute_result"
    }
   ],
   "source": [
    "current = os.getcwd()\n",
    "parent = os.path.dirname(current)\n",
    "\n",
    "save_path = os.path.join(parent, 'figures', 'modeling_results.png')\n",
    "save_path"
   ]
  },
  {
   "cell_type": "code",
   "execution_count": 8,
   "metadata": {},
   "outputs": [],
   "source": [
    "dfi.export(styled_df, save_path)"
   ]
  }
 ],
 "metadata": {
  "kernelspec": {
   "display_name": ".venv",
   "language": "python",
   "name": "python3"
  },
  "language_info": {
   "codemirror_mode": {
    "name": "ipython",
    "version": 3
   },
   "file_extension": ".py",
   "mimetype": "text/x-python",
   "name": "python",
   "nbconvert_exporter": "python",
   "pygments_lexer": "ipython3",
   "version": "3.12.4"
  }
 },
 "nbformat": 4,
 "nbformat_minor": 2
}
